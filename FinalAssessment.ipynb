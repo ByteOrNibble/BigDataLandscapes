{
 "cells": [
  {
   "cell_type": "markdown",
   "metadata": {},
   "source": [
    "Conor Johnston S1219419  Big Data Landscapes Final Assessments\n",
    "\n",
    "users of this notebook will need to install facebook prophet library using conda or pip: https://facebook.github.io/prophet/docs/installation.html\n",
    "\n",
    "Datasets original source url: https://data.world/bhavnachawla/population-fertility-rate-life-expectancy\n",
    "\n",
    "Question: Using a neural network can we make predictions on future populations, fertility rates and life expectancies in different countries and identify which is the predicted superior in each category.\n"
   ]
  },
  {
   "cell_type": "code",
   "execution_count": 158,
   "metadata": {},
   "outputs": [],
   "source": [
    "\n",
    "import pandas as pd\n",
    "from fbprophet import Prophet\n",
    "import matplotlib.pyplot as plt"
   ]
  },
  {
   "cell_type": "markdown",
   "metadata": {},
   "source": [
    "After imports have been declared, we will bring in the raw data and put it into a dataframe, we will do this through the use of the pandas library which has been imported and declared above. The Datasets that have been found for this question are taken directly from the site."
   ]
  },
  {
   "cell_type": "code",
   "execution_count": 159,
   "metadata": {},
   "outputs": [],
   "source": [
    "populationData = pd.read_excel('https://query.data.world/s/j2rk7koyqvu5uskdwi77d2zyctx7s5')"
   ]
  },
  {
   "cell_type": "code",
   "execution_count": 160,
   "metadata": {},
   "outputs": [],
   "source": [
    "fertilityData = pd.read_excel('https://query.data.world/s/mwbzjh2c7ooeuhrhv53luf7vv74o36')"
   ]
  },
  {
   "cell_type": "code",
   "execution_count": 161,
   "metadata": {},
   "outputs": [],
   "source": [
    "lifeExpectancyData = pd.read_excel('https://query.data.world/s/awprsk7pezwi263ianzjbh72f7iz5b')"
   ]
  },
  {
   "cell_type": "code",
   "execution_count": 162,
   "metadata": {},
   "outputs": [
    {
     "name": "stdout",
     "output_type": "stream",
     "text": [
      "(215, 58)\n"
     ]
    },
    {
     "data": {
      "text/html": [
       "<div>\n",
       "<style scoped>\n",
       "    .dataframe tbody tr th:only-of-type {\n",
       "        vertical-align: middle;\n",
       "    }\n",
       "\n",
       "    .dataframe tbody tr th {\n",
       "        vertical-align: top;\n",
       "    }\n",
       "\n",
       "    .dataframe thead th {\n",
       "        text-align: right;\n",
       "    }\n",
       "</style>\n",
       "<table border=\"1\" class=\"dataframe\">\n",
       "  <thead>\n",
       "    <tr style=\"text-align: right;\">\n",
       "      <th></th>\n",
       "      <th>Country Name</th>\n",
       "      <th>Country Code</th>\n",
       "      <th>Indicator Name</th>\n",
       "      <th>Indicator Code</th>\n",
       "      <th>1960</th>\n",
       "      <th>1961</th>\n",
       "      <th>1962</th>\n",
       "      <th>1963</th>\n",
       "      <th>1964</th>\n",
       "      <th>1965</th>\n",
       "      <th>...</th>\n",
       "      <th>2004</th>\n",
       "      <th>2005</th>\n",
       "      <th>2006</th>\n",
       "      <th>2007</th>\n",
       "      <th>2008</th>\n",
       "      <th>2009</th>\n",
       "      <th>2010</th>\n",
       "      <th>2011</th>\n",
       "      <th>2012</th>\n",
       "      <th>2013</th>\n",
       "    </tr>\n",
       "  </thead>\n",
       "  <tbody>\n",
       "    <tr>\n",
       "      <td>0</td>\n",
       "      <td>Aruba</td>\n",
       "      <td>ABW</td>\n",
       "      <td>Population, total</td>\n",
       "      <td>SP.POP.TOTL</td>\n",
       "      <td>54208.0</td>\n",
       "      <td>55435.0</td>\n",
       "      <td>56226.0</td>\n",
       "      <td>56697.0</td>\n",
       "      <td>57029.0</td>\n",
       "      <td>57360.0</td>\n",
       "      <td>...</td>\n",
       "      <td>98742.0</td>\n",
       "      <td>100031.0</td>\n",
       "      <td>100830.0</td>\n",
       "      <td>101218.0</td>\n",
       "      <td>101342.0</td>\n",
       "      <td>101416.0</td>\n",
       "      <td>101597.0</td>\n",
       "      <td>101936.0</td>\n",
       "      <td>102393.0</td>\n",
       "      <td>102921.0</td>\n",
       "    </tr>\n",
       "  </tbody>\n",
       "</table>\n",
       "<p>1 rows × 58 columns</p>\n",
       "</div>"
      ],
      "text/plain": [
       "  Country Name Country Code     Indicator Name Indicator Code     1960  \\\n",
       "0        Aruba          ABW  Population, total    SP.POP.TOTL  54208.0   \n",
       "\n",
       "      1961     1962     1963     1964     1965  ...     2004      2005  \\\n",
       "0  55435.0  56226.0  56697.0  57029.0  57360.0  ...  98742.0  100031.0   \n",
       "\n",
       "       2006      2007      2008      2009      2010      2011      2012  \\\n",
       "0  100830.0  101218.0  101342.0  101416.0  101597.0  101936.0  102393.0   \n",
       "\n",
       "       2013  \n",
       "0  102921.0  \n",
       "\n",
       "[1 rows x 58 columns]"
      ]
     },
     "execution_count": 162,
     "metadata": {},
     "output_type": "execute_result"
    }
   ],
   "source": [
    "print(populationData.shape)\n",
    "populationData.head(1)"
   ]
  },
  {
   "cell_type": "code",
   "execution_count": 163,
   "metadata": {},
   "outputs": [
    {
     "name": "stdout",
     "output_type": "stream",
     "text": [
      "(215, 58)\n"
     ]
    },
    {
     "data": {
      "text/html": [
       "<div>\n",
       "<style scoped>\n",
       "    .dataframe tbody tr th:only-of-type {\n",
       "        vertical-align: middle;\n",
       "    }\n",
       "\n",
       "    .dataframe tbody tr th {\n",
       "        vertical-align: top;\n",
       "    }\n",
       "\n",
       "    .dataframe thead th {\n",
       "        text-align: right;\n",
       "    }\n",
       "</style>\n",
       "<table border=\"1\" class=\"dataframe\">\n",
       "  <thead>\n",
       "    <tr style=\"text-align: right;\">\n",
       "      <th></th>\n",
       "      <th>Country Name</th>\n",
       "      <th>Country Code</th>\n",
       "      <th>Indicator Name</th>\n",
       "      <th>Indicator Code</th>\n",
       "      <th>1960</th>\n",
       "      <th>1961</th>\n",
       "      <th>1962</th>\n",
       "      <th>1963</th>\n",
       "      <th>1964</th>\n",
       "      <th>1965</th>\n",
       "      <th>...</th>\n",
       "      <th>2004</th>\n",
       "      <th>2005</th>\n",
       "      <th>2006</th>\n",
       "      <th>2007</th>\n",
       "      <th>2008</th>\n",
       "      <th>2009</th>\n",
       "      <th>2010</th>\n",
       "      <th>2011</th>\n",
       "      <th>2012</th>\n",
       "      <th>2013</th>\n",
       "    </tr>\n",
       "  </thead>\n",
       "  <tbody>\n",
       "    <tr>\n",
       "      <td>0</td>\n",
       "      <td>Aruba</td>\n",
       "      <td>ABW</td>\n",
       "      <td>Life expectancy at birth, total (years)</td>\n",
       "      <td>SP.DYN.LE00.IN</td>\n",
       "      <td>65.569366</td>\n",
       "      <td>65.988024</td>\n",
       "      <td>66.365537</td>\n",
       "      <td>66.713976</td>\n",
       "      <td>67.044293</td>\n",
       "      <td>67.369756</td>\n",
       "      <td>...</td>\n",
       "      <td>74.090854</td>\n",
       "      <td>74.228073</td>\n",
       "      <td>74.375707</td>\n",
       "      <td>74.526244</td>\n",
       "      <td>74.67422</td>\n",
       "      <td>74.816146</td>\n",
       "      <td>74.952024</td>\n",
       "      <td>75.08039</td>\n",
       "      <td>75.206756</td>\n",
       "      <td>75.332171</td>\n",
       "    </tr>\n",
       "  </tbody>\n",
       "</table>\n",
       "<p>1 rows × 58 columns</p>\n",
       "</div>"
      ],
      "text/plain": [
       "  Country Name Country Code                           Indicator Name  \\\n",
       "0        Aruba          ABW  Life expectancy at birth, total (years)   \n",
       "\n",
       "   Indicator Code       1960       1961       1962       1963       1964  \\\n",
       "0  SP.DYN.LE00.IN  65.569366  65.988024  66.365537  66.713976  67.044293   \n",
       "\n",
       "        1965  ...       2004       2005       2006       2007      2008  \\\n",
       "0  67.369756  ...  74.090854  74.228073  74.375707  74.526244  74.67422   \n",
       "\n",
       "        2009       2010      2011       2012       2013  \n",
       "0  74.816146  74.952024  75.08039  75.206756  75.332171  \n",
       "\n",
       "[1 rows x 58 columns]"
      ]
     },
     "execution_count": 163,
     "metadata": {},
     "output_type": "execute_result"
    }
   ],
   "source": [
    "print(lifeExpectancyData.shape)\n",
    "lifeExpectancyData.head(1)"
   ]
  },
  {
   "cell_type": "code",
   "execution_count": 164,
   "metadata": {},
   "outputs": [
    {
     "name": "stdout",
     "output_type": "stream",
     "text": [
      "Fertility Data info: - \n",
      "(215, 58)\n"
     ]
    },
    {
     "data": {
      "text/html": [
       "<div>\n",
       "<style scoped>\n",
       "    .dataframe tbody tr th:only-of-type {\n",
       "        vertical-align: middle;\n",
       "    }\n",
       "\n",
       "    .dataframe tbody tr th {\n",
       "        vertical-align: top;\n",
       "    }\n",
       "\n",
       "    .dataframe thead th {\n",
       "        text-align: right;\n",
       "    }\n",
       "</style>\n",
       "<table border=\"1\" class=\"dataframe\">\n",
       "  <thead>\n",
       "    <tr style=\"text-align: right;\">\n",
       "      <th></th>\n",
       "      <th>Country Name</th>\n",
       "      <th>Country Code</th>\n",
       "      <th>Indicator Name</th>\n",
       "      <th>Indicator Code</th>\n",
       "      <th>1960</th>\n",
       "      <th>1961</th>\n",
       "      <th>1962</th>\n",
       "      <th>1963</th>\n",
       "      <th>1964</th>\n",
       "      <th>1965</th>\n",
       "      <th>...</th>\n",
       "      <th>2004</th>\n",
       "      <th>2005</th>\n",
       "      <th>2006</th>\n",
       "      <th>2007</th>\n",
       "      <th>2008</th>\n",
       "      <th>2009</th>\n",
       "      <th>2010</th>\n",
       "      <th>2011</th>\n",
       "      <th>2012</th>\n",
       "      <th>2013</th>\n",
       "    </tr>\n",
       "  </thead>\n",
       "  <tbody>\n",
       "    <tr>\n",
       "      <td>0</td>\n",
       "      <td>Aruba</td>\n",
       "      <td>ABW</td>\n",
       "      <td>Fertility rate, total (births per woman)</td>\n",
       "      <td>SP.DYN.TFRT.IN</td>\n",
       "      <td>4.82</td>\n",
       "      <td>4.655</td>\n",
       "      <td>4.471</td>\n",
       "      <td>4.271</td>\n",
       "      <td>4.059</td>\n",
       "      <td>3.842</td>\n",
       "      <td>...</td>\n",
       "      <td>1.786</td>\n",
       "      <td>1.769</td>\n",
       "      <td>1.754</td>\n",
       "      <td>1.739</td>\n",
       "      <td>1.726</td>\n",
       "      <td>1.713</td>\n",
       "      <td>1.701</td>\n",
       "      <td>1.69</td>\n",
       "      <td>1.681</td>\n",
       "      <td>1.673</td>\n",
       "    </tr>\n",
       "  </tbody>\n",
       "</table>\n",
       "<p>1 rows × 58 columns</p>\n",
       "</div>"
      ],
      "text/plain": [
       "  Country Name Country Code                            Indicator Name  \\\n",
       "0        Aruba          ABW  Fertility rate, total (births per woman)   \n",
       "\n",
       "   Indicator Code  1960   1961   1962   1963   1964   1965  ...   2004   2005  \\\n",
       "0  SP.DYN.TFRT.IN  4.82  4.655  4.471  4.271  4.059  3.842  ...  1.786  1.769   \n",
       "\n",
       "    2006   2007   2008   2009   2010  2011   2012   2013  \n",
       "0  1.754  1.739  1.726  1.713  1.701  1.69  1.681  1.673  \n",
       "\n",
       "[1 rows x 58 columns]"
      ]
     },
     "execution_count": 164,
     "metadata": {},
     "output_type": "execute_result"
    }
   ],
   "source": [
    "print(\"Fertility Data info: - \")\n",
    "print(fertilityData.shape)\n",
    "fertilityData.head(1)"
   ]
  },
  {
   "cell_type": "code",
   "execution_count": 165,
   "metadata": {},
   "outputs": [],
   "source": [
    "## initialize the Prophet object this object will be used later to \n",
    "## predict values in the future based on current ones and plot them\n",
    "## to a graph.\n",
    "\n",
    "p = Prophet()"
   ]
  },
  {
   "cell_type": "code",
   "execution_count": 166,
   "metadata": {},
   "outputs": [],
   "source": [
    "## using the prophet fit method to analyze the parameters of the specified parameters\n",
    "##p.fit(populationData)"
   ]
  },
  {
   "cell_type": "code",
   "execution_count": 167,
   "metadata": {},
   "outputs": [
    {
     "data": {
      "text/plain": [
       "Index(['Country Name', 'Country Code', 'Indicator Name', 'Indicator Code',\n",
       "       '1960', '1961', '1962', '1963', '1964', '1965', '1966', '1967', '1968',\n",
       "       '1969', '1970', '1971', '1972', '1973', '1974', '1975', '1976', '1977',\n",
       "       '1978', '1979', '1980', '1981', '1982', '1983', '1984', '1985', '1986',\n",
       "       '1987', '1988', '1989', '1990', '1991', '1992', '1993', '1994', '1995',\n",
       "       '1996', '1997', '1998', '1999', '2000', '2001', '2002', '2003', '2004',\n",
       "       '2005', '2006', '2007', '2008', '2009', '2010', '2011', '2012', '2013'],\n",
       "      dtype='object')"
      ]
     },
     "execution_count": 167,
     "metadata": {},
     "output_type": "execute_result"
    }
   ],
   "source": [
    "populationData.columns"
   ]
  },
  {
   "cell_type": "code",
   "execution_count": 168,
   "metadata": {
    "scrolled": true
   },
   "outputs": [],
   "source": [
    "populationData.drop([\"Country Code\", \"Indicator Name\", \"Indicator Code\"], axis=1, inplace=True)"
   ]
  },
  {
   "cell_type": "code",
   "execution_count": 169,
   "metadata": {},
   "outputs": [
    {
     "data": {
      "text/html": [
       "<div>\n",
       "<style scoped>\n",
       "    .dataframe tbody tr th:only-of-type {\n",
       "        vertical-align: middle;\n",
       "    }\n",
       "\n",
       "    .dataframe tbody tr th {\n",
       "        vertical-align: top;\n",
       "    }\n",
       "\n",
       "    .dataframe thead th {\n",
       "        text-align: right;\n",
       "    }\n",
       "</style>\n",
       "<table border=\"1\" class=\"dataframe\">\n",
       "  <thead>\n",
       "    <tr style=\"text-align: right;\">\n",
       "      <th></th>\n",
       "      <th>Country Name</th>\n",
       "      <th>1960</th>\n",
       "      <th>1961</th>\n",
       "      <th>1962</th>\n",
       "      <th>1963</th>\n",
       "      <th>1964</th>\n",
       "      <th>1965</th>\n",
       "      <th>1966</th>\n",
       "      <th>1967</th>\n",
       "      <th>1968</th>\n",
       "      <th>...</th>\n",
       "      <th>2004</th>\n",
       "      <th>2005</th>\n",
       "      <th>2006</th>\n",
       "      <th>2007</th>\n",
       "      <th>2008</th>\n",
       "      <th>2009</th>\n",
       "      <th>2010</th>\n",
       "      <th>2011</th>\n",
       "      <th>2012</th>\n",
       "      <th>2013</th>\n",
       "    </tr>\n",
       "  </thead>\n",
       "  <tbody>\n",
       "    <tr>\n",
       "      <td>0</td>\n",
       "      <td>Aruba</td>\n",
       "      <td>54208.0</td>\n",
       "      <td>55435.0</td>\n",
       "      <td>56226.0</td>\n",
       "      <td>56697.0</td>\n",
       "      <td>57029.0</td>\n",
       "      <td>57360.0</td>\n",
       "      <td>57712.0</td>\n",
       "      <td>58049.0</td>\n",
       "      <td>58385.0</td>\n",
       "      <td>...</td>\n",
       "      <td>98742.0</td>\n",
       "      <td>100031.0</td>\n",
       "      <td>100830.0</td>\n",
       "      <td>101218.0</td>\n",
       "      <td>101342.0</td>\n",
       "      <td>101416.0</td>\n",
       "      <td>101597.0</td>\n",
       "      <td>101936.0</td>\n",
       "      <td>102393.0</td>\n",
       "      <td>102921.0</td>\n",
       "    </tr>\n",
       "    <tr>\n",
       "      <td>1</td>\n",
       "      <td>Andorra</td>\n",
       "      <td>13414.0</td>\n",
       "      <td>14376.0</td>\n",
       "      <td>15376.0</td>\n",
       "      <td>16410.0</td>\n",
       "      <td>17470.0</td>\n",
       "      <td>18551.0</td>\n",
       "      <td>19646.0</td>\n",
       "      <td>20755.0</td>\n",
       "      <td>21888.0</td>\n",
       "      <td>...</td>\n",
       "      <td>78337.0</td>\n",
       "      <td>81223.0</td>\n",
       "      <td>83373.0</td>\n",
       "      <td>84878.0</td>\n",
       "      <td>85616.0</td>\n",
       "      <td>85474.0</td>\n",
       "      <td>84419.0</td>\n",
       "      <td>82326.0</td>\n",
       "      <td>79316.0</td>\n",
       "      <td>75902.0</td>\n",
       "    </tr>\n",
       "    <tr>\n",
       "      <td>2</td>\n",
       "      <td>Afghanistan</td>\n",
       "      <td>8994793.0</td>\n",
       "      <td>9164945.0</td>\n",
       "      <td>9343772.0</td>\n",
       "      <td>9531555.0</td>\n",
       "      <td>9728645.0</td>\n",
       "      <td>9935358.0</td>\n",
       "      <td>10148841.0</td>\n",
       "      <td>10368600.0</td>\n",
       "      <td>10599790.0</td>\n",
       "      <td>...</td>\n",
       "      <td>23499850.0</td>\n",
       "      <td>24399948.0</td>\n",
       "      <td>25183615.0</td>\n",
       "      <td>25877544.0</td>\n",
       "      <td>26528741.0</td>\n",
       "      <td>27207291.0</td>\n",
       "      <td>27962207.0</td>\n",
       "      <td>28809167.0</td>\n",
       "      <td>29726803.0</td>\n",
       "      <td>30682500.0</td>\n",
       "    </tr>\n",
       "    <tr>\n",
       "      <td>3</td>\n",
       "      <td>Angola</td>\n",
       "      <td>5270844.0</td>\n",
       "      <td>5367287.0</td>\n",
       "      <td>5465905.0</td>\n",
       "      <td>5565808.0</td>\n",
       "      <td>5665701.0</td>\n",
       "      <td>5765025.0</td>\n",
       "      <td>5863568.0</td>\n",
       "      <td>5962831.0</td>\n",
       "      <td>6066094.0</td>\n",
       "      <td>...</td>\n",
       "      <td>17295500.0</td>\n",
       "      <td>17912942.0</td>\n",
       "      <td>18541467.0</td>\n",
       "      <td>19183907.0</td>\n",
       "      <td>19842251.0</td>\n",
       "      <td>20520103.0</td>\n",
       "      <td>21219954.0</td>\n",
       "      <td>21942296.0</td>\n",
       "      <td>22685632.0</td>\n",
       "      <td>23448202.0</td>\n",
       "    </tr>\n",
       "    <tr>\n",
       "      <td>4</td>\n",
       "      <td>Albania</td>\n",
       "      <td>1608800.0</td>\n",
       "      <td>1659800.0</td>\n",
       "      <td>1711319.0</td>\n",
       "      <td>1762621.0</td>\n",
       "      <td>1814135.0</td>\n",
       "      <td>1864791.0</td>\n",
       "      <td>1914573.0</td>\n",
       "      <td>1965598.0</td>\n",
       "      <td>2022272.0</td>\n",
       "      <td>...</td>\n",
       "      <td>3026939.0</td>\n",
       "      <td>3011487.0</td>\n",
       "      <td>2992547.0</td>\n",
       "      <td>2970017.0</td>\n",
       "      <td>2947314.0</td>\n",
       "      <td>2927519.0</td>\n",
       "      <td>2913021.0</td>\n",
       "      <td>2904780.0</td>\n",
       "      <td>2900489.0</td>\n",
       "      <td>2897366.0</td>\n",
       "    </tr>\n",
       "  </tbody>\n",
       "</table>\n",
       "<p>5 rows × 55 columns</p>\n",
       "</div>"
      ],
      "text/plain": [
       "  Country Name       1960       1961       1962       1963       1964  \\\n",
       "0        Aruba    54208.0    55435.0    56226.0    56697.0    57029.0   \n",
       "1      Andorra    13414.0    14376.0    15376.0    16410.0    17470.0   \n",
       "2  Afghanistan  8994793.0  9164945.0  9343772.0  9531555.0  9728645.0   \n",
       "3       Angola  5270844.0  5367287.0  5465905.0  5565808.0  5665701.0   \n",
       "4      Albania  1608800.0  1659800.0  1711319.0  1762621.0  1814135.0   \n",
       "\n",
       "        1965        1966        1967        1968  ...        2004        2005  \\\n",
       "0    57360.0     57712.0     58049.0     58385.0  ...     98742.0    100031.0   \n",
       "1    18551.0     19646.0     20755.0     21888.0  ...     78337.0     81223.0   \n",
       "2  9935358.0  10148841.0  10368600.0  10599790.0  ...  23499850.0  24399948.0   \n",
       "3  5765025.0   5863568.0   5962831.0   6066094.0  ...  17295500.0  17912942.0   \n",
       "4  1864791.0   1914573.0   1965598.0   2022272.0  ...   3026939.0   3011487.0   \n",
       "\n",
       "         2006        2007        2008        2009        2010        2011  \\\n",
       "0    100830.0    101218.0    101342.0    101416.0    101597.0    101936.0   \n",
       "1     83373.0     84878.0     85616.0     85474.0     84419.0     82326.0   \n",
       "2  25183615.0  25877544.0  26528741.0  27207291.0  27962207.0  28809167.0   \n",
       "3  18541467.0  19183907.0  19842251.0  20520103.0  21219954.0  21942296.0   \n",
       "4   2992547.0   2970017.0   2947314.0   2927519.0   2913021.0   2904780.0   \n",
       "\n",
       "         2012        2013  \n",
       "0    102393.0    102921.0  \n",
       "1     79316.0     75902.0  \n",
       "2  29726803.0  30682500.0  \n",
       "3  22685632.0  23448202.0  \n",
       "4   2900489.0   2897366.0  \n",
       "\n",
       "[5 rows x 55 columns]"
      ]
     },
     "execution_count": 169,
     "metadata": {},
     "output_type": "execute_result"
    }
   ],
   "source": [
    "populationData.head(5)"
   ]
  },
  {
   "cell_type": "code",
   "execution_count": 170,
   "metadata": {},
   "outputs": [
    {
     "name": "stdout",
     "output_type": "stream",
     "text": [
      "success\n"
     ]
    }
   ],
   "source": [
    "populationData.transpose()\n",
    "print(\"success\")"
   ]
  },
  {
   "cell_type": "code",
   "execution_count": 171,
   "metadata": {},
   "outputs": [],
   "source": [
    "##manually typing out the code to rename the columns into the needed format is haunting so we will cheat a bit and\n",
    "##automate it slightly by creating a function that will loop through our preporcessed data columns and create the\n",
    "##name change using a small application of conditions and string concatonation "
   ]
  },
  {
   "cell_type": "code",
   "execution_count": 172,
   "metadata": {},
   "outputs": [
    {
     "name": "stdout",
     "output_type": "stream",
     "text": [
      "1960\n",
      "1960-01-01\n",
      "1961\n",
      "1961-01-01\n",
      "1962\n",
      "1962-01-01\n",
      "1963\n",
      "1963-01-01\n",
      "1964\n",
      "1964-01-01\n",
      "1965\n",
      "1965-01-01\n",
      "1966\n",
      "1966-01-01\n",
      "1967\n",
      "1967-01-01\n",
      "1968\n",
      "1968-01-01\n",
      "1969\n",
      "1969-01-01\n",
      "1970\n",
      "1970-01-01\n",
      "1971\n",
      "1971-01-01\n",
      "1972\n",
      "1972-01-01\n",
      "1973\n",
      "1973-01-01\n",
      "1974\n",
      "1974-01-01\n",
      "1975\n",
      "1975-01-01\n",
      "1976\n",
      "1976-01-01\n",
      "1977\n",
      "1977-01-01\n",
      "1978\n",
      "1978-01-01\n",
      "1979\n",
      "1979-01-01\n",
      "1980\n",
      "1980-01-01\n",
      "1981\n",
      "1981-01-01\n",
      "1982\n",
      "1982-01-01\n",
      "1983\n",
      "1983-01-01\n",
      "1984\n",
      "1984-01-01\n",
      "1985\n",
      "1985-01-01\n",
      "1986\n",
      "1986-01-01\n",
      "1987\n",
      "1987-01-01\n",
      "1988\n",
      "1988-01-01\n",
      "1989\n",
      "1989-01-01\n",
      "1990\n",
      "1990-01-01\n",
      "1991\n",
      "1991-01-01\n",
      "1992\n",
      "1992-01-01\n",
      "1993\n",
      "1993-01-01\n",
      "1994\n",
      "1994-01-01\n",
      "1995\n",
      "1995-01-01\n",
      "1996\n",
      "1996-01-01\n",
      "1997\n",
      "1997-01-01\n",
      "1998\n",
      "1998-01-01\n",
      "1999\n",
      "1999-01-01\n",
      "2000\n",
      "2000-01-01\n",
      "2001\n",
      "2001-01-01\n",
      "2002\n",
      "2002-01-01\n",
      "2003\n",
      "2003-01-01\n",
      "2004\n",
      "2004-01-01\n",
      "2005\n",
      "2005-01-01\n",
      "2006\n",
      "2006-01-01\n",
      "2007\n",
      "2007-01-01\n",
      "2008\n",
      "2008-01-01\n",
      "2009\n",
      "2009-01-01\n",
      "2010\n",
      "2010-01-01\n",
      "2011\n",
      "2011-01-01\n",
      "2012\n",
      "2012-01-01\n",
      "2013\n",
      "2013-01-01\n"
     ]
    }
   ],
   "source": [
    "\n",
    "for item, df in populationData.items():\n",
    "    if item != \"Country Name\":\n",
    "        print(item)\n",
    "        newName = item+'-01-01'\n",
    "        print(newName)\n",
    "        populationData.rename(columns = {item:newName}, inplace=True)\n",
    "        "
   ]
  },
  {
   "cell_type": "code",
   "execution_count": 173,
   "metadata": {
    "scrolled": true
   },
   "outputs": [
    {
     "data": {
      "text/html": [
       "<div>\n",
       "<style scoped>\n",
       "    .dataframe tbody tr th:only-of-type {\n",
       "        vertical-align: middle;\n",
       "    }\n",
       "\n",
       "    .dataframe tbody tr th {\n",
       "        vertical-align: top;\n",
       "    }\n",
       "\n",
       "    .dataframe thead th {\n",
       "        text-align: right;\n",
       "    }\n",
       "</style>\n",
       "<table border=\"1\" class=\"dataframe\">\n",
       "  <thead>\n",
       "    <tr style=\"text-align: right;\">\n",
       "      <th></th>\n",
       "      <th>Country Name</th>\n",
       "      <th>1960-01-01</th>\n",
       "      <th>1961-01-01</th>\n",
       "      <th>1962-01-01</th>\n",
       "      <th>1963-01-01</th>\n",
       "      <th>1964-01-01</th>\n",
       "      <th>1965-01-01</th>\n",
       "      <th>1966-01-01</th>\n",
       "      <th>1967-01-01</th>\n",
       "      <th>1968-01-01</th>\n",
       "      <th>...</th>\n",
       "      <th>2004-01-01</th>\n",
       "      <th>2005-01-01</th>\n",
       "      <th>2006-01-01</th>\n",
       "      <th>2007-01-01</th>\n",
       "      <th>2008-01-01</th>\n",
       "      <th>2009-01-01</th>\n",
       "      <th>2010-01-01</th>\n",
       "      <th>2011-01-01</th>\n",
       "      <th>2012-01-01</th>\n",
       "      <th>2013-01-01</th>\n",
       "    </tr>\n",
       "  </thead>\n",
       "  <tbody>\n",
       "    <tr>\n",
       "      <td>0</td>\n",
       "      <td>Aruba</td>\n",
       "      <td>54208.0</td>\n",
       "      <td>55435.0</td>\n",
       "      <td>56226.0</td>\n",
       "      <td>56697.0</td>\n",
       "      <td>57029.0</td>\n",
       "      <td>57360.0</td>\n",
       "      <td>57712.0</td>\n",
       "      <td>58049.0</td>\n",
       "      <td>58385.0</td>\n",
       "      <td>...</td>\n",
       "      <td>98742.0</td>\n",
       "      <td>100031.0</td>\n",
       "      <td>100830.0</td>\n",
       "      <td>101218.0</td>\n",
       "      <td>101342.0</td>\n",
       "      <td>101416.0</td>\n",
       "      <td>101597.0</td>\n",
       "      <td>101936.0</td>\n",
       "      <td>102393.0</td>\n",
       "      <td>102921.0</td>\n",
       "    </tr>\n",
       "  </tbody>\n",
       "</table>\n",
       "<p>1 rows × 55 columns</p>\n",
       "</div>"
      ],
      "text/plain": [
       "  Country Name  1960-01-01  1961-01-01  1962-01-01  1963-01-01  1964-01-01  \\\n",
       "0        Aruba     54208.0     55435.0     56226.0     56697.0     57029.0   \n",
       "\n",
       "   1965-01-01  1966-01-01  1967-01-01  1968-01-01  ...  2004-01-01  \\\n",
       "0     57360.0     57712.0     58049.0     58385.0  ...     98742.0   \n",
       "\n",
       "   2005-01-01  2006-01-01  2007-01-01  2008-01-01  2009-01-01  2010-01-01  \\\n",
       "0    100031.0    100830.0    101218.0    101342.0    101416.0    101597.0   \n",
       "\n",
       "   2011-01-01  2012-01-01  2013-01-01  \n",
       "0    101936.0    102393.0    102921.0  \n",
       "\n",
       "[1 rows x 55 columns]"
      ]
     },
     "execution_count": 173,
     "metadata": {},
     "output_type": "execute_result"
    }
   ],
   "source": [
    "##outputing the information to show that the names of the columns have been changed to match the necessary date format\n",
    "##in the form YYYY-MM-DD \n",
    "populationData.head(1)"
   ]
  },
  {
   "cell_type": "markdown",
   "metadata": {},
   "source": [
    "With this format achieved it is time to get to the modelling, for this we need to put the data from the datasets in a format that can be read and analysed by facebook prophet to achieve not only our modelling purposes but our prediction purposes as well. We will use Aruba as the Example piece from the dataset for this."
   ]
  },
  {
   "cell_type": "code",
   "execution_count": 174,
   "metadata": {},
   "outputs": [
    {
     "name": "stdout",
     "output_type": "stream",
     "text": [
      "['1960-01-01', '1961-01-01', '1962-01-01', '1963-01-01', '1964-01-01', '1965-01-01', '1966-01-01', '1967-01-01', '1968-01-01', '1969-01-01', '1970-01-01', '1971-01-01', '1972-01-01', '1973-01-01', '1974-01-01', '1975-01-01', '1976-01-01', '1977-01-01', '1978-01-01', '1979-01-01', '1980-01-01', '1981-01-01', '1982-01-01', '1983-01-01', '1984-01-01', '1985-01-01', '1986-01-01', '1987-01-01', '1988-01-01', '1989-01-01', '1990-01-01', '1991-01-01', '1992-01-01', '1993-01-01', '1994-01-01', '1995-01-01', '1996-01-01', '1997-01-01', '1998-01-01', '1999-01-01', '2000-01-01', '2001-01-01', '2002-01-01', '2003-01-01', '2004-01-01', '2005-01-01', '2006-01-01', '2007-01-01', '2008-01-01', '2009-01-01', '2010-01-01', '2011-01-01', '2012-01-01', '2013-01-01']\n"
     ]
    }
   ],
   "source": [
    "data = []\n",
    "for year, i in populationData.items():\n",
    "    if year != \"Country Name\":\n",
    "       ## print date.\n",
    "   \n",
    "        data.append(year)\n",
    "\n",
    "print(data)\n",
    "##df = pd.DataFrame(data, columns = ['Date', 'Population'])"
   ]
  },
  {
   "cell_type": "code",
   "execution_count": 175,
   "metadata": {},
   "outputs": [],
   "source": [
    "column = populationData\n",
    "column.drop([\"Country Name\"], axis=1, inplace=True)\n",
    "\n",
    "\n"
   ]
  },
  {
   "cell_type": "code",
   "execution_count": 176,
   "metadata": {},
   "outputs": [
    {
     "name": "stdout",
     "output_type": "stream",
     "text": [
      "1960-01-01\n"
     ]
    }
   ],
   "source": [
    "dates = column.columns\n",
    "print(dates[0])"
   ]
  },
  {
   "cell_type": "code",
   "execution_count": 177,
   "metadata": {},
   "outputs": [
    {
     "name": "stdout",
     "output_type": "stream",
     "text": [
      "(54,)\n",
      "(54,)\n"
     ]
    }
   ],
   "source": [
    "population = populationData.iloc[0]\n",
    "pops= population.iloc[0:]\n",
    "\n",
    "\n",
    "print(dates.shape)\n",
    "print(pops.shape)\n",
    "\n",
    "\n",
    "## Data is the same shape and can now be mapped\n",
    "##df = pd.DataFrame(val.iloc[1:], columns = ['Date', 'Population'])\n"
   ]
  },
  {
   "cell_type": "code",
   "execution_count": null,
   "metadata": {},
   "outputs": [],
   "source": []
  },
  {
   "cell_type": "code",
   "execution_count": 178,
   "metadata": {},
   "outputs": [
    {
     "name": "stdout",
     "output_type": "stream",
     "text": [
      "[['1960-01-01', 54208.0], ['1961-01-01', 55435.0], ['1962-01-01', 56226.0], ['1963-01-01', 56697.0], ['1964-01-01', 57029.0], ['1965-01-01', 57360.0], ['1966-01-01', 57712.0], ['1967-01-01', 58049.0], ['1968-01-01', 58385.0], ['1969-01-01', 58724.0], ['1970-01-01', 59065.0], ['1971-01-01', 59438.0], ['1972-01-01', 59849.0], ['1973-01-01', 60239.0], ['1974-01-01', 60525.0], ['1975-01-01', 60655.0], ['1976-01-01', 60589.0], ['1977-01-01', 60366.0], ['1978-01-01', 60106.0], ['1979-01-01', 59978.0], ['1980-01-01', 60096.0], ['1981-01-01', 60567.0], ['1982-01-01', 61344.0], ['1983-01-01', 62204.0], ['1984-01-01', 62831.0], ['1985-01-01', 63028.0], ['1986-01-01', 62644.0], ['1987-01-01', 61835.0], ['1988-01-01', 61077.0], ['1989-01-01', 61032.0], ['1990-01-01', 62148.0], ['1991-01-01', 64623.0], ['1992-01-01', 68235.0], ['1993-01-01', 72498.0], ['1994-01-01', 76700.0], ['1995-01-01', 80326.0], ['1996-01-01', 83195.0], ['1997-01-01', 85447.0], ['1998-01-01', 87276.0], ['1999-01-01', 89004.0], ['2000-01-01', 90858.0], ['2001-01-01', 92894.0], ['2002-01-01', 94995.0], ['2003-01-01', 97015.0], ['2004-01-01', 98742.0], ['2005-01-01', 100031.0], ['2006-01-01', 100830.0], ['2007-01-01', 101218.0], ['2008-01-01', 101342.0], ['2009-01-01', 101416.0], ['2010-01-01', 101597.0], ['2011-01-01', 101936.0], ['2012-01-01', 102393.0], ['2013-01-01', 102921.0]]\n"
     ]
    }
   ],
   "source": [
    "data = []\n",
    "for x in range(0 , len(value1)):\n",
    "    data.append([dates[x] , pops.iloc[x]])\n",
    "print(data)\n",
    "df = pd.DataFrame(data, columns = ['Date', 'Population'])"
   ]
  },
  {
   "cell_type": "code",
   "execution_count": 179,
   "metadata": {},
   "outputs": [
    {
     "data": {
      "text/html": [
       "<div>\n",
       "<style scoped>\n",
       "    .dataframe tbody tr th:only-of-type {\n",
       "        vertical-align: middle;\n",
       "    }\n",
       "\n",
       "    .dataframe tbody tr th {\n",
       "        vertical-align: top;\n",
       "    }\n",
       "\n",
       "    .dataframe thead th {\n",
       "        text-align: right;\n",
       "    }\n",
       "</style>\n",
       "<table border=\"1\" class=\"dataframe\">\n",
       "  <thead>\n",
       "    <tr style=\"text-align: right;\">\n",
       "      <th></th>\n",
       "      <th>Date</th>\n",
       "      <th>Population</th>\n",
       "    </tr>\n",
       "  </thead>\n",
       "  <tbody>\n",
       "    <tr>\n",
       "      <td>0</td>\n",
       "      <td>1960-01-01</td>\n",
       "      <td>54208.0</td>\n",
       "    </tr>\n",
       "    <tr>\n",
       "      <td>1</td>\n",
       "      <td>1961-01-01</td>\n",
       "      <td>55435.0</td>\n",
       "    </tr>\n",
       "    <tr>\n",
       "      <td>2</td>\n",
       "      <td>1962-01-01</td>\n",
       "      <td>56226.0</td>\n",
       "    </tr>\n",
       "    <tr>\n",
       "      <td>3</td>\n",
       "      <td>1963-01-01</td>\n",
       "      <td>56697.0</td>\n",
       "    </tr>\n",
       "    <tr>\n",
       "      <td>4</td>\n",
       "      <td>1964-01-01</td>\n",
       "      <td>57029.0</td>\n",
       "    </tr>\n",
       "  </tbody>\n",
       "</table>\n",
       "</div>"
      ],
      "text/plain": [
       "         Date  Population\n",
       "0  1960-01-01     54208.0\n",
       "1  1961-01-01     55435.0\n",
       "2  1962-01-01     56226.0\n",
       "3  1963-01-01     56697.0\n",
       "4  1964-01-01     57029.0"
      ]
     },
     "execution_count": 179,
     "metadata": {},
     "output_type": "execute_result"
    }
   ],
   "source": [
    "df.head()"
   ]
  },
  {
   "cell_type": "code",
   "execution_count": 180,
   "metadata": {},
   "outputs": [
    {
     "data": {
      "text/plain": [
       "<matplotlib.axes._subplots.AxesSubplot at 0x7280107748>"
      ]
     },
     "execution_count": 180,
     "metadata": {},
     "output_type": "execute_result"
    },
    {
     "data": {
      "image/png": "[encoded data removed]",
      "text/plain": [
       "<Figure size 432x288 with 1 Axes>"
      ]
     },
     "metadata": {
      "needs_background": "light"
     },
     "output_type": "display_data"
    }
   ],
   "source": [
    "df.plot()"
   ]
  },
  {
   "cell_type": "code",
   "execution_count": null,
   "metadata": {},
   "outputs": [],
   "source": []
  }
 ],
 "metadata": {
  "kernelspec": {
   "display_name": "Python 3",
   "language": "python",
   "name": "python3"
  },
  "language_info": {
   "codemirror_mode": {
    "name": "ipython",
    "version": 3
   },
   "file_extension": ".py",
   "mimetype": "text/x-python",
   "name": "python",
   "nbconvert_exporter": "python",
   "pygments_lexer": "ipython3",
   "version": "3.7.4"
  }
 },
 "nbformat": 4,
 "nbformat_minor": 2
}
